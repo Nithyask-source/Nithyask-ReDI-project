{
  "nbformat": 4,
  "nbformat_minor": 0,
  "metadata": {
    "colab": {
      "provenance": []
    },
    "kernelspec": {
      "name": "python3",
      "display_name": "Python 3"
    },
    "language_info": {
      "name": "python"
    }
  },
  "cells": [
    {
      "cell_type": "code",
      "source": [
        "import pandas as pd\n",
        "import os\n",
        "import numpy as np\n",
        "\n",
        "\n",
        "month_1 = pd.read_csv(\"/content/202104-divvy-tripdata.csv\")\n",
        "month_2 = pd.read_csv(\"/content/202105-divvy-tripdata.csv\")\n",
        "month_3 = pd.read_csv(\"/content/202106-divvy-tripdata.csv\")\n",
        "month_4 = pd.read_csv(\"/content/202107-divvy-tripdata.csv\")\n",
        "month_5 = pd.read_csv(\"/content/202108-divvy-tripdata.csv\")\n",
        "month_6 = pd.read_csv(\"/content/202109-divvy-tripdata.csv\")\n",
        "month_7 = pd.read_csv(\"/content/202110-divvy-tripdata.csv\")\n",
        "month_8 = pd.read_csv(\"/content/202111-divvy-tripdata.csv\")\n",
        "month_9 = pd.read_csv(\"/content/202112-divvy-tripdata.csv\")\n",
        "month_10 = pd.read_csv(\"/content/202201-divvy-tripdata.csv\")\n",
        "month_11 = pd.read_csv(\"/content/202202-divvy-tripdata.csv\")\n",
        "month_12 = pd.read_csv(\"/content/202203-divvy-tripdata.csv\")"
      ],
      "metadata": {
        "id": "1XkNXz869qu0"
      },
      "execution_count": null,
      "outputs": []
    },
    {
      "cell_type": "code",
      "source": [
        "df = [month_1,month_2,month_3,month_4,month_5,month_6,month_7,month_8,month_9,month_10,month_11,month_12]\n",
        "month_data = pd.concat(df)\n",
        "month_data = month_data.to_csv(\"merged_month_data.csv\")\n",
        "\n"
      ],
      "metadata": {
        "id": "mrOMuLGU5_iC"
      },
      "execution_count": null,
      "outputs": []
    },
    {
      "cell_type": "code",
      "source": [
        "import pandas as pd\n",
        "from google.colab import files\n",
        "try:\n",
        "    merged_data = pd.read_csv('/content/merged_month_data.csv')\n",
        "    print(\"File loaded successfully.\")\n",
        "except FileNotFoundError:\n",
        "    print(\"Error: 'merged_month_data.csv' not found.\")\n",
        "except pd.errors.ParserError:\n",
        "    print(\"Error: Could not parse the CSV file. Please check the file format.\")\n",
        "except Exception as e:\n",
        "    print(f\"An unexpected error occurred: {e}\")\n",
        "\n",
        "# Download the file using files.download()\n",
        "files.download('merged_month_data.csv')"
      ],
      "metadata": {
        "colab": {
          "base_uri": "https://localhost:8080/",
          "height": 35
        },
        "id": "7ms7MhLZGi9o",
        "outputId": "ae384fec-957f-4768-a5ba-33c560ff7bdf"
      },
      "execution_count": null,
      "outputs": [
        {
          "output_type": "stream",
          "name": "stdout",
          "text": [
            "File loaded successfully.\n"
          ]
        },
        {
          "output_type": "display_data",
          "data": {
            "text/plain": [
              "<IPython.core.display.Javascript object>"
            ],
            "application/javascript": [
              "\n",
              "    async function download(id, filename, size) {\n",
              "      if (!google.colab.kernel.accessAllowed) {\n",
              "        return;\n",
              "      }\n",
              "      const div = document.createElement('div');\n",
              "      const label = document.createElement('label');\n",
              "      label.textContent = `Downloading \"${filename}\": `;\n",
              "      div.appendChild(label);\n",
              "      const progress = document.createElement('progress');\n",
              "      progress.max = size;\n",
              "      div.appendChild(progress);\n",
              "      document.body.appendChild(div);\n",
              "\n",
              "      const buffers = [];\n",
              "      let downloaded = 0;\n",
              "\n",
              "      const channel = await google.colab.kernel.comms.open(id);\n",
              "      // Send a message to notify the kernel that we're ready.\n",
              "      channel.send({})\n",
              "\n",
              "      for await (const message of channel.messages) {\n",
              "        // Send a message to notify the kernel that we're ready.\n",
              "        channel.send({})\n",
              "        if (message.buffers) {\n",
              "          for (const buffer of message.buffers) {\n",
              "            buffers.push(buffer);\n",
              "            downloaded += buffer.byteLength;\n",
              "            progress.value = downloaded;\n",
              "          }\n",
              "        }\n",
              "      }\n",
              "      const blob = new Blob(buffers, {type: 'application/binary'});\n",
              "      const a = document.createElement('a');\n",
              "      a.href = window.URL.createObjectURL(blob);\n",
              "      a.download = filename;\n",
              "      div.appendChild(a);\n",
              "      a.click();\n",
              "      div.remove();\n",
              "    }\n",
              "  "
            ]
          },
          "metadata": {}
        },
        {
          "output_type": "display_data",
          "data": {
            "text/plain": [
              "<IPython.core.display.Javascript object>"
            ],
            "application/javascript": [
              "download(\"download_e8a996a9-9035-4a53-bc79-5a3806b6e739\", \"merged_month_data.csv\", 1097084935)"
            ]
          },
          "metadata": {}
        }
      ]
    },
    {
      "cell_type": "code",
      "source": [
        "print(merged_data.head())"
      ],
      "metadata": {
        "colab": {
          "base_uri": "https://localhost:8080/"
        },
        "id": "W_AYwMHFIKGc",
        "outputId": "a57a31a5-07c1-4db7-890e-63bf940e0984"
      },
      "execution_count": null,
      "outputs": [
        {
          "output_type": "stream",
          "name": "stdout",
          "text": [
            "   Unnamed: 0           ride_id rideable_type           started_at  \\\n",
            "0           0  6C992BD37A98A63F  classic_bike  2021-04-12 18:25:36   \n",
            "1           1  1E0145613A209000   docked_bike  2021-04-27 17:27:11   \n",
            "2           2  E498E15508A80BAD   docked_bike  2021-04-03 12:42:45   \n",
            "3           3  1887262AD101C604  classic_bike  2021-04-17 09:17:42   \n",
            "4           4  C123548CAB2A32A5   docked_bike  2021-04-03 12:42:25   \n",
            "\n",
            "              ended_at        start_station_name start_station_id  \\\n",
            "0  2021-04-12 18:56:55     State St & Pearson St     TA1307000061   \n",
            "1  2021-04-27 18:31:29  Dorchester Ave & 49th St     KA1503000069   \n",
            "2  2021-04-07 11:40:24     Loomis Blvd & 84th St            20121   \n",
            "3  2021-04-17 09:42:48   Honore St & Division St     TA1305000034   \n",
            "4  2021-04-03 14:13:42     Loomis Blvd & 84th St            20121   \n",
            "\n",
            "               end_station_name end_station_id  start_lat  start_lng  \\\n",
            "0  Southport Ave & Waveland Ave          13235  41.897448 -87.628722   \n",
            "1      Dorchester Ave & 49th St   KA1503000069  41.805772 -87.592464   \n",
            "2         Loomis Blvd & 84th St          20121  41.741487 -87.658410   \n",
            "3  Southport Ave & Waveland Ave          13235  41.903119 -87.673935   \n",
            "4         Loomis Blvd & 84th St          20121  41.741487 -87.658410   \n",
            "\n",
            "     end_lat    end_lng member_casual  \n",
            "0  41.948150 -87.663940        member  \n",
            "1  41.805772 -87.592464        casual  \n",
            "2  41.741487 -87.658410        casual  \n",
            "3  41.948150 -87.663940        member  \n",
            "4  41.741487 -87.658410        casual  \n"
          ]
        }
      ]
    },
    {
      "cell_type": "code",
      "source": [
        "print(merged_data.tail())"
      ],
      "metadata": {
        "colab": {
          "base_uri": "https://localhost:8080/"
        },
        "id": "fNN5FPw9IO_U",
        "outputId": "27d3b3d7-8fa6-4db7-ea1f-b077ab312d61"
      },
      "execution_count": null,
      "outputs": [
        {
          "output_type": "stream",
          "name": "stdout",
          "text": [
            "         Unnamed: 0           ride_id  rideable_type           started_at  \\\n",
            "5723527      284037  E23BE3DB740BE3B4    docked_bike  2022-03-13 16:31:03   \n",
            "5723528      284038  15AF71F3220F2A75    docked_bike  2022-03-09 06:56:02   \n",
            "5723529      284039  9C4CE6CC19F8225B  electric_bike  2022-03-09 15:55:26   \n",
            "5723530      284040  F4E136DEF696F3AE  electric_bike  2022-03-21 16:12:44   \n",
            "5723531      284041  5AEC5F39AF711895   classic_bike  2022-03-03 18:13:40   \n",
            "\n",
            "                    ended_at      start_station_name start_station_id  \\\n",
            "5723527  2022-03-13 16:39:32   Michigan Ave & Oak St            13042   \n",
            "5723528  2022-03-09 07:42:14    Broadway & Barry Ave            13137   \n",
            "5723529  2022-03-09 16:08:54                     NaN              NaN   \n",
            "5723530  2022-03-21 16:18:24                     NaN              NaN   \n",
            "5723531  2022-03-03 18:23:39  Clark St & Randolph St     TA1305000030   \n",
            "\n",
            "                     end_station_name end_station_id  start_lat  start_lng  \\\n",
            "5723527       Streeter Dr & Grand Ave          13022  41.900960 -87.623777   \n",
            "5723528  Ravenswood Ave & Berteau Ave   TA1309000018  41.937582 -87.644098   \n",
            "5723529     Albany Ave & Montrose Ave          15621  41.940000 -87.710000   \n",
            "5723530     Larrabee St & Division St   KA1504000079  41.910000 -87.650000   \n",
            "5723531       Streeter Dr & Grand Ave          13022  41.884576 -87.631890   \n",
            "\n",
            "           end_lat    end_lng member_casual  \n",
            "5723527  41.892278 -87.612043        casual  \n",
            "5723528  41.957921 -87.673567        casual  \n",
            "5723529  41.961041 -87.705866        member  \n",
            "5723530  41.903486 -87.643353        member  \n",
            "5723531  41.892278 -87.612043        member  \n"
          ]
        }
      ]
    },
    {
      "cell_type": "code",
      "source": [
        "print(merged_data.info())"
      ],
      "metadata": {
        "colab": {
          "base_uri": "https://localhost:8080/"
        },
        "id": "3sDFXLC5IYNI",
        "outputId": "5c51227b-76c4-4b26-cf85-b2cb3ea0347a"
      },
      "execution_count": null,
      "outputs": [
        {
          "output_type": "stream",
          "name": "stdout",
          "text": [
            "<class 'pandas.core.frame.DataFrame'>\n",
            "RangeIndex: 5723532 entries, 0 to 5723531\n",
            "Data columns (total 14 columns):\n",
            " #   Column              Dtype  \n",
            "---  ------              -----  \n",
            " 0   Unnamed: 0          int64  \n",
            " 1   ride_id             object \n",
            " 2   rideable_type       object \n",
            " 3   started_at          object \n",
            " 4   ended_at            object \n",
            " 5   start_station_name  object \n",
            " 6   start_station_id    object \n",
            " 7   end_station_name    object \n",
            " 8   end_station_id      object \n",
            " 9   start_lat           float64\n",
            " 10  start_lng           float64\n",
            " 11  end_lat             float64\n",
            " 12  end_lng             float64\n",
            " 13  member_casual       object \n",
            "dtypes: float64(4), int64(1), object(9)\n",
            "memory usage: 611.3+ MB\n",
            "None\n"
          ]
        }
      ]
    },
    {
      "cell_type": "code",
      "source": [],
      "metadata": {
        "id": "QQ9RKFisInDp"
      },
      "execution_count": null,
      "outputs": []
    },
    {
      "cell_type": "code",
      "source": [
        "# Drop the 'Unnamed: 0' column\n",
        "merged_data = merged_data.drop(columns=['Unnamed: 0'])\n",
        "\n",
        "# Confirm the column has been removed\n",
        "print(merged_data.info())"
      ],
      "metadata": {
        "colab": {
          "base_uri": "https://localhost:8080/"
        },
        "id": "dIGrsCPwJfpA",
        "outputId": "90d3337a-decb-4db2-fa7b-31e44dd154c7"
      },
      "execution_count": null,
      "outputs": [
        {
          "output_type": "stream",
          "name": "stdout",
          "text": [
            "<class 'pandas.core.frame.DataFrame'>\n",
            "RangeIndex: 5723532 entries, 0 to 5723531\n",
            "Data columns (total 13 columns):\n",
            " #   Column              Dtype  \n",
            "---  ------              -----  \n",
            " 0   ride_id             object \n",
            " 1   rideable_type       object \n",
            " 2   started_at          object \n",
            " 3   ended_at            object \n",
            " 4   start_station_name  object \n",
            " 5   start_station_id    object \n",
            " 6   end_station_name    object \n",
            " 7   end_station_id      object \n",
            " 8   start_lat           float64\n",
            " 9   start_lng           float64\n",
            " 10  end_lat             float64\n",
            " 11  end_lng             float64\n",
            " 12  member_casual       object \n",
            "dtypes: float64(4), object(9)\n",
            "memory usage: 567.7+ MB\n",
            "None\n"
          ]
        }
      ]
    },
    {
      "cell_type": "code",
      "source": [
        "# split the data column\n",
        "\n",
        "merged_data['started_at']=pd.to_datetime(merged_data['started_at'], errors='coerce')\n",
        "merged_data['ended_at']=pd.to_datetime(merged_data['ended_at'], errors='coerce')\n",
        "\n",
        "merged_data['started_at_date']=pd.to_datetime(merged_data['started_at']).dt.date\n",
        "merged_data['started_at_time']=pd.to_datetime(merged_data['started_at']).dt.time\n",
        "\n",
        "merged_data['ended_at_date']=pd.to_datetime(merged_data['ended_at']).dt.date\n",
        "merged_data['ended_at_time']=pd.to_datetime(merged_data['ended_at']).dt.time\n",
        "\n",
        "print (merged_data.info\n",
        "       )"
      ],
      "metadata": {
        "colab": {
          "base_uri": "https://localhost:8080/"
        },
        "id": "XTL5jn18Kiii",
        "outputId": "62fca786-3c94-4f21-9048-aa3d9bca5a92"
      },
      "execution_count": null,
      "outputs": [
        {
          "output_type": "stream",
          "name": "stdout",
          "text": [
            "<bound method DataFrame.info of                   ride_id  rideable_type          started_at  \\\n",
            "0        6C992BD37A98A63F   classic_bike 2021-04-12 18:25:36   \n",
            "1        1E0145613A209000    docked_bike 2021-04-27 17:27:11   \n",
            "2        E498E15508A80BAD    docked_bike 2021-04-03 12:42:45   \n",
            "3        1887262AD101C604   classic_bike 2021-04-17 09:17:42   \n",
            "4        C123548CAB2A32A5    docked_bike 2021-04-03 12:42:25   \n",
            "...                   ...            ...                 ...   \n",
            "5723527  E23BE3DB740BE3B4    docked_bike 2022-03-13 16:31:03   \n",
            "5723528  15AF71F3220F2A75    docked_bike 2022-03-09 06:56:02   \n",
            "5723529  9C4CE6CC19F8225B  electric_bike 2022-03-09 15:55:26   \n",
            "5723530  F4E136DEF696F3AE  electric_bike 2022-03-21 16:12:44   \n",
            "5723531  5AEC5F39AF711895   classic_bike 2022-03-03 18:13:40   \n",
            "\n",
            "                   ended_at        start_station_name start_station_id  \\\n",
            "0       2021-04-12 18:56:55     State St & Pearson St     TA1307000061   \n",
            "1       2021-04-27 18:31:29  Dorchester Ave & 49th St     KA1503000069   \n",
            "2       2021-04-07 11:40:24     Loomis Blvd & 84th St            20121   \n",
            "3       2021-04-17 09:42:48   Honore St & Division St     TA1305000034   \n",
            "4       2021-04-03 14:13:42     Loomis Blvd & 84th St            20121   \n",
            "...                     ...                       ...              ...   \n",
            "5723527 2022-03-13 16:39:32     Michigan Ave & Oak St            13042   \n",
            "5723528 2022-03-09 07:42:14      Broadway & Barry Ave            13137   \n",
            "5723529 2022-03-09 16:08:54                       NaN              NaN   \n",
            "5723530 2022-03-21 16:18:24                       NaN              NaN   \n",
            "5723531 2022-03-03 18:23:39    Clark St & Randolph St     TA1305000030   \n",
            "\n",
            "                     end_station_name end_station_id  start_lat  start_lng  \\\n",
            "0        Southport Ave & Waveland Ave          13235  41.897448 -87.628722   \n",
            "1            Dorchester Ave & 49th St   KA1503000069  41.805772 -87.592464   \n",
            "2               Loomis Blvd & 84th St          20121  41.741487 -87.658410   \n",
            "3        Southport Ave & Waveland Ave          13235  41.903119 -87.673935   \n",
            "4               Loomis Blvd & 84th St          20121  41.741487 -87.658410   \n",
            "...                               ...            ...        ...        ...   \n",
            "5723527       Streeter Dr & Grand Ave          13022  41.900960 -87.623777   \n",
            "5723528  Ravenswood Ave & Berteau Ave   TA1309000018  41.937582 -87.644098   \n",
            "5723529     Albany Ave & Montrose Ave          15621  41.940000 -87.710000   \n",
            "5723530     Larrabee St & Division St   KA1504000079  41.910000 -87.650000   \n",
            "5723531       Streeter Dr & Grand Ave          13022  41.884576 -87.631890   \n",
            "\n",
            "           end_lat    end_lng member_casual started_at_date started_at_time  \\\n",
            "0        41.948150 -87.663940        member      2021-04-12        18:25:36   \n",
            "1        41.805772 -87.592464        casual      2021-04-27        17:27:11   \n",
            "2        41.741487 -87.658410        casual      2021-04-03        12:42:45   \n",
            "3        41.948150 -87.663940        member      2021-04-17        09:17:42   \n",
            "4        41.741487 -87.658410        casual      2021-04-03        12:42:25   \n",
            "...            ...        ...           ...             ...             ...   \n",
            "5723527  41.892278 -87.612043        casual      2022-03-13        16:31:03   \n",
            "5723528  41.957921 -87.673567        casual      2022-03-09        06:56:02   \n",
            "5723529  41.961041 -87.705866        member      2022-03-09        15:55:26   \n",
            "5723530  41.903486 -87.643353        member      2022-03-21        16:12:44   \n",
            "5723531  41.892278 -87.612043        member      2022-03-03        18:13:40   \n",
            "\n",
            "        ended_at_date ended_at_time  \n",
            "0          2021-04-12      18:56:55  \n",
            "1          2021-04-27      18:31:29  \n",
            "2          2021-04-07      11:40:24  \n",
            "3          2021-04-17      09:42:48  \n",
            "4          2021-04-03      14:13:42  \n",
            "...               ...           ...  \n",
            "5723527    2022-03-13      16:39:32  \n",
            "5723528    2022-03-09      07:42:14  \n",
            "5723529    2022-03-09      16:08:54  \n",
            "5723530    2022-03-21      16:18:24  \n",
            "5723531    2022-03-03      18:23:39  \n",
            "\n",
            "[5723532 rows x 17 columns]>\n"
          ]
        }
      ]
    },
    {
      "cell_type": "code",
      "source": [
        "# Only using the columns we need for the analysis\n",
        "\n",
        "# merged_data=merged_data.loc[:,['ride_id','rideable_type','started_at','started_at_date','started_at_time','ended_at','ended_at_date','ended_at_time','start_station_name','start_station_id','end_station_name','end_station_id','member_casual']]"
      ],
      "metadata": {
        "id": "tcbVMHErL92J"
      },
      "execution_count": null,
      "outputs": []
    },
    {
      "cell_type": "code",
      "source": [
        "print (merged_data.describe())"
      ],
      "metadata": {
        "colab": {
          "base_uri": "https://localhost:8080/"
        },
        "id": "XSsY6yBUMUYY",
        "outputId": "e92008a2-be09-43a4-a386-0a12a5ca9752"
      },
      "execution_count": null,
      "outputs": [
        {
          "output_type": "stream",
          "name": "stdout",
          "text": [
            "                          started_at                       ended_at\n",
            "count                        5723532                        5723532\n",
            "mean   2021-08-26 22:25:18.392216832  2021-08-26 22:46:50.937537792\n",
            "min              2021-04-01 00:03:18            2021-04-01 00:14:29\n",
            "25%       2021-06-22 15:20:26.500000            2021-06-22 15:47:37\n",
            "50%              2021-08-17 18:25:49     2021-08-17 18:44:32.500000\n",
            "75%       2021-10-14 19:48:10.500000     2021-10-14 20:03:28.500000\n",
            "max              2022-03-31 23:59:47            2022-04-01 22:10:12\n"
          ]
        }
      ]
    },
    {
      "cell_type": "code",
      "source": [
        "print (merged_data.info())"
      ],
      "metadata": {
        "colab": {
          "base_uri": "https://localhost:8080/"
        },
        "id": "mRXjlgxDMu24",
        "outputId": "150ac299-f63d-46a4-99da-bace2bb8f131"
      },
      "execution_count": null,
      "outputs": [
        {
          "output_type": "stream",
          "name": "stdout",
          "text": [
            "<class 'pandas.core.frame.DataFrame'>\n",
            "RangeIndex: 5723532 entries, 0 to 5723531\n",
            "Data columns (total 13 columns):\n",
            " #   Column              Dtype         \n",
            "---  ------              -----         \n",
            " 0   ride_id             object        \n",
            " 1   rideable_type       object        \n",
            " 2   started_at          datetime64[ns]\n",
            " 3   started_at_date     object        \n",
            " 4   started_at_time     object        \n",
            " 5   ended_at            datetime64[ns]\n",
            " 6   ended_at_date       object        \n",
            " 7   ended_at_time       object        \n",
            " 8   start_station_name  object        \n",
            " 9   start_station_id    object        \n",
            " 10  end_station_name    object        \n",
            " 11  end_station_id      object        \n",
            " 12  member_casual       object        \n",
            "dtypes: datetime64[ns](2), object(11)\n",
            "memory usage: 567.7+ MB\n",
            "None\n"
          ]
        }
      ]
    },
    {
      "cell_type": "code",
      "source": [
        "merged_data.member_casual.value_counts()"
      ],
      "metadata": {
        "colab": {
          "base_uri": "https://localhost:8080/",
          "height": 178
        },
        "id": "vsxrVLfPM726",
        "outputId": "e7551a49-4273-48b2-efe6-73d61de084c4"
      },
      "execution_count": null,
      "outputs": [
        {
          "output_type": "execute_result",
          "data": {
            "text/plain": [
              "member_casual\n",
              "member    3176990\n",
              "casual    2546542\n",
              "Name: count, dtype: int64"
            ],
            "text/html": [
              "<div>\n",
              "<style scoped>\n",
              "    .dataframe tbody tr th:only-of-type {\n",
              "        vertical-align: middle;\n",
              "    }\n",
              "\n",
              "    .dataframe tbody tr th {\n",
              "        vertical-align: top;\n",
              "    }\n",
              "\n",
              "    .dataframe thead th {\n",
              "        text-align: right;\n",
              "    }\n",
              "</style>\n",
              "<table border=\"1\" class=\"dataframe\">\n",
              "  <thead>\n",
              "    <tr style=\"text-align: right;\">\n",
              "      <th></th>\n",
              "      <th>count</th>\n",
              "    </tr>\n",
              "    <tr>\n",
              "      <th>member_casual</th>\n",
              "      <th></th>\n",
              "    </tr>\n",
              "  </thead>\n",
              "  <tbody>\n",
              "    <tr>\n",
              "      <th>member</th>\n",
              "      <td>3176990</td>\n",
              "    </tr>\n",
              "    <tr>\n",
              "      <th>casual</th>\n",
              "      <td>2546542</td>\n",
              "    </tr>\n",
              "  </tbody>\n",
              "</table>\n",
              "</div><br><label><b>dtype:</b> int64</label>"
            ]
          },
          "metadata": {},
          "execution_count": 43
        }
      ]
    },
    {
      "cell_type": "code",
      "source": [
        "# Members riding on the weekdays\n",
        "members_weekday_rides = merged_data.loc[(merged_data.member_casual == 'member') & (merged_data.started_at.dt.dayofweek < 5)] # Monday=0, Sunday=6\n",
        "\n",
        "#print(members_weekday_rides.head())\n",
        "#print (members_weekday_rides.info())"
      ],
      "metadata": {
        "id": "l4vY_NFDNdIo"
      },
      "execution_count": null,
      "outputs": []
    },
    {
      "cell_type": "code",
      "source": [
        "print (members_weekday_rides.describe())"
      ],
      "metadata": {
        "colab": {
          "base_uri": "https://localhost:8080/"
        },
        "id": "E0UK5V1COckS",
        "outputId": "b540c005-c945-460a-a3b8-d8ff7fd84560"
      },
      "execution_count": null,
      "outputs": [
        {
          "output_type": "stream",
          "name": "stdout",
          "text": [
            "                          started_at                       ended_at\n",
            "count                        2357917                        2357917\n",
            "mean   2021-09-08 22:29:31.698820352  2021-09-08 22:42:16.562559744\n",
            "min              2021-04-01 00:03:18            2021-04-01 00:14:29\n",
            "25%              2021-06-29 20:15:02            2021-06-29 20:28:44\n",
            "50%              2021-09-01 18:55:35            2021-09-01 19:09:14\n",
            "75%              2021-11-04 18:18:17            2021-11-04 18:30:04\n",
            "max              2022-03-31 23:59:47            2022-04-01 14:52:43\n"
          ]
        }
      ]
    },
    {
      "cell_type": "code",
      "source": [
        "#Percentage of bikeshare users on weekend and weekday\n",
        "\n",
        "# Calculate the total number of member rides\n",
        "total_member_rides = len(merged_data[merged_data.member_casual == 'member'])\n",
        "\n",
        "# Calculate the number of member rides on weekdays\n",
        "weekday_member_rides = len(members_weekday_rides)\n",
        "\n",
        "# Calculate the percentage of member rides on weekdays\n",
        "weekday_percentage = (weekday_member_rides / total_member_rides) * 100\n",
        "\n",
        "#Represent the result\n",
        "print(f\"{weekday_percentage:.2f}% of member rides are on weekdays.\")\n",
        "\n",
        "#Alternative representation using a bar chart (requires matplotlib)\n",
        "import matplotlib.pyplot as plt\n",
        "\n",
        "labels = ['Weekday Bike Rides', 'Weekend Bike Rides']\n",
        "sizes = [weekday_percentage, 100 - weekday_percentage]\n",
        "colors = ['lightcoral', 'lightskyblue']\n",
        "explode = (0.1, 0)  # explode the 1st slice\n",
        "\n",
        "fig1, ax1 = plt.subplots()\n",
        "ax1.pie(sizes, labels=labels, colors=colors, autopct='%1.1f%%',\n",
        "        shadow=False, startangle=90)\n",
        "ax1.axis('equal')  # Equal aspect ratio ensures that pie is drawn as a circle.\n",
        "\n",
        "plt.title('Percentage of Menbers using Bike Share')\n",
        "plt.show()"
      ],
      "metadata": {
        "colab": {
          "base_uri": "https://localhost:8080/",
          "height": 446
        },
        "id": "EK-8ovTiOkZP",
        "outputId": "fb1975d9-0328-404d-9df3-fd5115b34daf"
      },
      "execution_count": null,
      "outputs": [
        {
          "output_type": "stream",
          "name": "stdout",
          "text": [
            "74.22% of member rides are on weekdays.\n"
          ]
        },
        {
          "output_type": "display_data",
          "data": {
            "text/plain": [
              "<Figure size 640x480 with 1 Axes>"
            ],
            "image/png": "[encoded data removed]"
          },
          "metadata": {}
        }
      ]
    },
    {
      "cell_type": "code",
      "source": [
        "\n",
        "\n",
        "# Convert 'started_at' to datetime if not already done\n",
        "merged_data['started_at'] = pd.to_datetime(merged_data['started_at'])\n",
        "\n",
        "# Create a 'season' column based on the month\n",
        "merged_data['season'] = (merged_data['started_at'].dt.month % 12 + 3) // 3\n",
        "# Spring = 1, Summer = 2, Autumn = 3, Winter = 4\n",
        "\n",
        "season_mapping = {\n",
        "    1: 'Spring',\n",
        "    2: 'Summer',\n",
        "    3: 'Autumn',\n",
        "    4: 'Winter'\n",
        "}\n",
        "merged_data['season_name'] = merged_data['season'].map(season_mapping)\n",
        "\n",
        "\n",
        "# Group by season and user type, then count rides\n",
        "ride_counts = merged_data.groupby(['season_name', 'member_casual'])['ride_id'].count().reset_index()\n",
        "\n",
        "print (ride_counts)"
      ],
      "metadata": {
        "colab": {
          "base_uri": "https://localhost:8080/"
        },
        "id": "UhXnTFaVO9eG",
        "outputId": "7c754c20-4512-49bd-f822-67ac936ae2ca"
      },
      "execution_count": null,
      "outputs": [
        {
          "output_type": "stream",
          "name": "stdout",
          "text": [
            "  season_name member_casual  ride_id\n",
            "0      Autumn        casual  1225408\n",
            "1      Autumn        member  1130949\n",
            "2      Spring        casual   109674\n",
            "3      Spring        member   357245\n",
            "4      Summer        casual   483399\n",
            "5      Summer        member   669506\n",
            "6      Winter        casual   728061\n",
            "7      Winter        member  1019290\n"
          ]
        }
      ]
    },
    {
      "cell_type": "code",
      "source": [
        "import matplotlib.pyplot as plt\n",
        "import seaborn as sns\n",
        "\n",
        "# Assuming 'ride_counts' DataFrame is already created as in your previous code\n",
        "\n",
        "# Create the plot using seaborn\n",
        "plt.figure(figsize=(10, 6))  # Adjust figure size as needed\n",
        "sns.barplot(x='season_name', y='ride_id', hue='member_casual', data=ride_counts)\n",
        "plt.xlabel('Season')\n",
        "plt.ylabel('Number of Rides')\n",
        "plt.title('Number of Rides per Season by Member Type')\n",
        "plt.show()"
      ],
      "metadata": {
        "colab": {
          "base_uri": "https://localhost:8080/",
          "height": 564
        },
        "id": "OU1M9tHpQQr0",
        "outputId": "75886538-ef07-4aa3-8e04-7f0540febe77"
      },
      "execution_count": null,
      "outputs": [
        {
          "output_type": "display_data",
          "data": {
            "text/plain": [
              "<Figure size 1000x600 with 1 Axes>"
            ],
            "image/png": "[encoded data removed]"
          },
          "metadata": {}
        }
      ]
    },
    {
      "cell_type": "code",
      "source": [
        "\n",
        "# Convert 'started_at' to datetime if not already done\n",
        "merged_data['started_at'] = pd.to_datetime(merged_data['started_at'])\n",
        "\n",
        "# Extract the month from the 'started_at' column\n",
        "merged_data['month'] = merged_data['started_at'].dt.month\n",
        "\n",
        "# Group by month and user type, then count rides\n",
        "monthly_rides = merged_data.groupby(['month', 'member_casual'])['ride_id'].count().reset_index()\n",
        "\n",
        "# Rename the 'ride_id' column to 'ride_count' for clarity\n",
        "monthly_rides.rename(columns={'ride_id': 'ride_count'}, inplace=True)\n",
        "\n",
        "# Print the resulting DataFrame\n",
        "print(monthly_rides)\n",
        "\n",
        "\n",
        "# Create the plot using seaborn\n",
        "plt.figure(figsize=(12, 6))\n",
        "sns.barplot(x='month', y='ride_count', hue='member_casual', data=monthly_rides)\n",
        "plt.xlabel('Month')\n",
        "plt.ylabel('Number of Rides')\n",
        "plt.title('Monthly Bike Share Usage by Member Type')\n",
        "plt.xticks(range(1, 13))  # Set x-axis ticks to represent months\n",
        "plt.show()"
      ],
      "metadata": {
        "colab": {
          "base_uri": "https://localhost:8080/",
          "height": 1000
        },
        "id": "OgC1Lo7iRZKb",
        "outputId": "6d601746-0a65-4e8b-89eb-8a270fc5363b"
      },
      "execution_count": null,
      "outputs": [
        {
          "output_type": "stream",
          "name": "stdout",
          "text": [
            "    month member_casual  ride_count\n",
            "0       1        casual       18520\n",
            "1       1        member       85250\n",
            "2       2        casual       21416\n",
            "3       2        member       94193\n",
            "4       3        casual       89882\n",
            "5       3        member      194160\n",
            "6       4        casual      136601\n",
            "7       4        member      200629\n",
            "8       5        casual      256916\n",
            "9       5        member      274717\n",
            "10      6        casual      370681\n",
            "11      6        member      358914\n",
            "12      7        casual      442056\n",
            "13      7        member      380354\n",
            "14      8        casual      412671\n",
            "15      8        member      391681\n",
            "16      9        casual      363890\n",
            "17      9        member      392257\n",
            "18     10        casual      257242\n",
            "19     10        member      373984\n",
            "20     11        casual      106929\n",
            "21     11        member      253049\n",
            "22     12        casual       69738\n",
            "23     12        member      177802\n"
          ]
        },
        {
          "output_type": "display_data",
          "data": {
            "text/plain": [
              "<Figure size 1200x600 with 1 Axes>"
            ],
            "image/png": "[encoded data removed]"
          },
          "metadata": {}
        }
      ]
    },
    {
      "cell_type": "code",
      "source": [
        "# Group by season, user type, and bike type, then count rides\n",
        "bike_season_counts = merged_data.groupby(['season_name', 'member_casual', 'rideable_type'])['ride_id'].count().reset_index()\n",
        "\n",
        "# Rename the 'ride_id' column to 'ride_count' for clarity\n",
        "bike_season_counts.rename(columns={'ride_id': 'ride_count'}, inplace=True)\n",
        "\n",
        "# Print the resulting DataFrame\n",
        "print(bike_season_counts)\n",
        "\n",
        "# Create the plot using seaborn\n",
        "plt.figure(figsize=(12, 6))\n",
        "sns.barplot(x='season_name', y='ride_count', hue='rideable_type', data=bike_season_counts, ci=None) #ci=None removes error bars\n",
        "plt.xlabel('Season')\n",
        "plt.ylabel('Number of Rides')\n",
        "plt.title('Bike Type Usage per Season by Member Type')\n",
        "plt.show()"
      ],
      "metadata": {
        "colab": {
          "base_uri": "https://localhost:8080/",
          "height": 1000
        },
        "id": "8mWN-F5QT-SY",
        "outputId": "69c02ae6-81d0-40ab-e230-c15042145b94"
      },
      "execution_count": null,
      "outputs": [
        {
          "output_type": "stream",
          "name": "stdout",
          "text": [
            "   season_name member_casual  rideable_type  ride_count\n",
            "0       Autumn        casual   classic_bike      659722\n",
            "1       Autumn        casual    docked_bike      154479\n",
            "2       Autumn        casual  electric_bike      411207\n",
            "3       Autumn        member   classic_bike      785240\n",
            "4       Autumn        member  electric_bike      345709\n",
            "5       Spring        casual   classic_bike       34887\n",
            "6       Spring        casual    docked_bike        7250\n",
            "7       Spring        casual  electric_bike       67537\n",
            "8       Spring        member   classic_bike      180229\n",
            "9       Spring        member  electric_bike      177016\n",
            "10      Summer        casual   classic_bike      230113\n",
            "11      Summer        casual    docked_bike       76425\n",
            "12      Summer        casual  electric_bike      176861\n",
            "13      Summer        member   classic_bike      428038\n",
            "14      Summer        member  electric_bike      241468\n",
            "15      Winter        casual   classic_bike      332921\n",
            "16      Winter        casual    docked_bike       65835\n",
            "17      Winter        casual  electric_bike      329305\n",
            "18      Winter        member   classic_bike      599541\n",
            "19      Winter        member  electric_bike      419749\n"
          ]
        },
        {
          "output_type": "stream",
          "name": "stderr",
          "text": [
            "<ipython-input-80-351d62076129>:16: FutureWarning: \n",
            "\n",
            "The `ci` parameter is deprecated. Use `errorbar=None` for the same effect.\n",
            "\n",
            "  sns.barplot(x='season_name', y='ride_count', hue='rideable_type', data=bike_season_counts, ci=None) #ci=None removes error bars\n"
          ]
        },
        {
          "output_type": "display_data",
          "data": {
            "text/plain": [
              "<Figure size 1200x600 with 1 Axes>"
            ],
            "image/png": "[encoded data removed]"
          },
          "metadata": {}
        }
      ]
    }
  ]
}